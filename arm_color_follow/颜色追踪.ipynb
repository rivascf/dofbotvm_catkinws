{
 "cells": [
  {
   "cell_type": "code",
   "execution_count": null,
   "metadata": {},
   "outputs": [],
   "source": [
    "#!/usr/bin/env python\n",
    "# coding: utf-8\n",
    "import cv2 as cv\n",
    "import ipywidgets as widgets\n",
    "from color_follow_ctrl import color_follow\n",
    "from IPython.display import display\n",
    "color_hsv = {\"red\": ((0, 25, 90), (10, 255, 255)),\n",
    "             \"green\": ((53, 36, 40), (80, 255, 255)),\n",
    "             \"blue\": ((116, 80, 90), (130, 255, 255)),\n",
    "             \"yellow\": ((25, 20, 55), (50, 255, 255))}\n",
    "imgbox = widgets.Image(format='jpg', height=480, width=640)\n",
    "display(imgbox)\n",
    "# 打开摄像头\n",
    "capture = cv.VideoCapture(0)\n",
    "# capture.set(cv.CAP_PROP_FOURCC, cv.VideoWriter.fourcc('M', 'J', 'P', 'G'))\n",
    "# capture.set(cv.CAP_PROP_BRIGHTNESS, 30) #设置亮度 -64 - 64  0.0\n",
    "# capture.set(cv.CAP_PROP_CONTRAST, 50) #设置对比度 -64 - 64  2.0\n",
    "# capture.set(cv.CAP_PROP_EXPOSURE, 156) #设置曝光值 1.0 - 5000  156.0\n",
    "# 创建实例\n",
    "follow = color_follow()\n",
    "# 当摄像头正常打开的情况下,循环读取每一帧\n",
    "while capture.isOpened():\n",
    "    try:\n",
    "        _, img = capture.read()\n",
    "        img = cv.resize(img, (640, 480))\n",
    "        hsv_name = 'red'\n",
    "#         img = follow.run(img, hsv_name, color_hsv[hsv_name])\n",
    "        cv.line(img, (320, 0), (320, 480), (255, 0, 0), 1)\n",
    "        cv.line(img, (0, 240), (680, 240), (255, 0, 0), 1)\n",
    "        # 显示图像\n",
    "        imgbox.value = cv.imencode('.jpg', img)[1].tobytes()\n",
    "        action = cv.waitKey(10) & 0xff\n",
    "        # 按 q 或 esc 退出\n",
    "        if action==ord('q') or action==27:\n",
    "            cv.destroyAllWindows()\n",
    "            capture.release()\n",
    "            break\n",
    "    except KeyboardInterrupt:\n",
    "        capture.release() \n",
    "cv.destroyAllWindows()\n",
    "capture.release()"
   ]
  },
  {
   "cell_type": "code",
   "execution_count": null,
   "metadata": {},
   "outputs": [],
   "source": []
  },
  {
   "cell_type": "code",
   "execution_count": null,
   "metadata": {},
   "outputs": [],
   "source": []
  }
 ],
 "metadata": {
  "kernelspec": {
   "display_name": "Python 3",
   "language": "python",
   "name": "python3"
  },
  "language_info": {
   "codemirror_mode": {
    "name": "ipython",
    "version": 3
   },
   "file_extension": ".py",
   "mimetype": "text/x-python",
   "name": "python",
   "nbconvert_exporter": "python",
   "pygments_lexer": "ipython3",
   "version": "3.6.9"
  }
 },
 "nbformat": 4,
 "nbformat_minor": 4
}
