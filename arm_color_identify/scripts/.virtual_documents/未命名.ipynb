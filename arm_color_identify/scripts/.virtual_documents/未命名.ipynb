#!/usr/bin/env python
# -*- coding: utf-8 -*-
import cv2 as cv
from color_identify import color_identify

color_identify = color_identify()
capture = cv.VideoCapture(0)
while capture.isOpened():
    _, image = capture.read()
    image, pos = color_identify.select_color(image, "3101")
    color_identify.identify_grap(pos)
    cv.imshow("image", image)
    cv.waitKey(10)
cv.destroyAllWindows()


import sys
sys.path.append("/home/jetson/catkin_ws/src/arm_color_identify/scripts")


from color_identify import color_identify


!rospy -v



!python3 -m pip install rospkg


import rospy


!sudo apt-get install pip 
































#!/usr/bin/env python
# coding: utf-8

import cv2 as cv
from Calibration import Arm_Calibration
calibration = Arm_Calibration()
capture = cv.VideoCapture(0)
dp = []
while capture.isOpened():
    _, image = capture.read()
    action = cv.waitKey(10) & 0xff
    # print action
    if action == 49:  # 模拟进入标定后的效果
        print("49")
        # 显示方框检测效果图
        image, (HSV_min, HSV_max) = calibration.get_hsv(image)
    if action == 32:  # 模拟进入标定后的效果
        print("32")
        # 显示方框检测效果图
        dp, image = calibration.calibration_map(image,threshold_num=130)
    if action == 27:  # 模拟标定后的效果
        print("27")
        # 返回仿射变换后的效果图
        image = calibration.Perspective_transform(dp, image)
    cv.imshow("image", image)
cv.destroyAllWindows()


# !/usr/bin/env python
# coding: utf-8
import threading
from math import pi
from time import sleep
import Arm_Lib

joints_0 = [90, 130, 0, 0, 90, 0]

def test():
    print("机械臂移动测试!")
    Arm.Arm_serial_servo_write6_array(joints_0, 1500)
    sleep(3)
Arm = Arm_Lib.Arm_Device()
index = 0
# print("*******抓取准备*******")
while True:
    test()
    sleep(1)
    print("----------", index)
    index += 10



import cv2 as cv 
capture = cv.VideoCapture(0)
while capture.isOpened():
    _, image = capture.read()
    cv.imshow("image", image)
    cv.waitKey(10)
cv.destroyAllWindows()


g_color_dict_temp =  {"red": ((0, 150, 160), (10, 255, 255)),
                  "green": ((53, 80, 36), (80, 255, 160)),
                  "blue": ((116, 124, 100), (130, 255, 255)),
                  "yellow": ((20, 98, 130), (40, 255, 255))}



g_color_dict_temp["red"] = ((10, 150, 160), (10, 255, 255))


print(g_color_dict_temp["red"][0][0])



