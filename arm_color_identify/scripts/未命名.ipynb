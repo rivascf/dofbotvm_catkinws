{
 "cells": [
  {
   "cell_type": "code",
   "execution_count": null,
   "metadata": {},
   "outputs": [],
   "source": [
    "#!/usr/bin/env python\n",
    "# -*- coding: utf-8 -*-\n",
    "import cv2 as cv\n",
    "from color_identify import color_identify\n",
    "\n",
    "color_identify = color_identify()\n",
    "capture = cv.VideoCapture(0)\n",
    "while capture.isOpened():\n",
    "    _, image = capture.read()\n",
    "    image, pos = color_identify.select_color(image, \"3101\")\n",
    "    color_identify.identify_grap(pos)\n",
    "    cv.imshow(\"image\", image)\n",
    "    cv.waitKey(10)\n",
    "cv.destroyAllWindows()"
   ]
  },
  {
   "cell_type": "code",
   "execution_count": 25,
   "metadata": {},
   "outputs": [],
   "source": [
    "import sys\n",
    "sys.path.append(\"/home/jetson/catkin_ws/src/arm_color_identify/scripts\")"
   ]
  },
  {
   "cell_type": "code",
   "execution_count": 26,
   "metadata": {},
   "outputs": [
    {
     "ename": "ModuleNotFoundError",
     "evalue": "No module named 'rospy'",
     "output_type": "error",
     "traceback": [
      "\u001b[0;31m---------------------------------------------------------------------------\u001b[0m",
      "\u001b[0;31mModuleNotFoundError\u001b[0m                       Traceback (most recent call last)",
      "\u001b[0;32m<ipython-input-26-1f8bea7d10f6>\u001b[0m in \u001b[0;36m<module>\u001b[0;34m\u001b[0m\n\u001b[0;32m----> 1\u001b[0;31m \u001b[0;32mfrom\u001b[0m \u001b[0mcolor_identify\u001b[0m \u001b[0;32mimport\u001b[0m \u001b[0mcolor_identify\u001b[0m\u001b[0;34m\u001b[0m\u001b[0;34m\u001b[0m\u001b[0m\n\u001b[0m",
      "\u001b[0;32m~/catkin_ws/src/arm_color_identify/scripts/color_identify.py\u001b[0m in \u001b[0;36m<module>\u001b[0;34m\u001b[0m\n\u001b[1;32m      1\u001b[0m \u001b[0;31m#!/usr/bin/env python2.7\u001b[0m\u001b[0;34m\u001b[0m\u001b[0;34m\u001b[0m\u001b[0;34m\u001b[0m\u001b[0m\n\u001b[1;32m      2\u001b[0m \u001b[0;31m# coding: utf-8\u001b[0m\u001b[0;34m\u001b[0m\u001b[0;34m\u001b[0m\u001b[0;34m\u001b[0m\u001b[0m\n\u001b[0;32m----> 3\u001b[0;31m \u001b[0;32mimport\u001b[0m \u001b[0mrospy\u001b[0m\u001b[0;34m\u001b[0m\u001b[0;34m\u001b[0m\u001b[0m\n\u001b[0m\u001b[1;32m      4\u001b[0m \u001b[0;32mimport\u001b[0m \u001b[0mArm_Lib\u001b[0m\u001b[0;34m\u001b[0m\u001b[0;34m\u001b[0m\u001b[0m\n\u001b[1;32m      5\u001b[0m \u001b[0;32mimport\u001b[0m \u001b[0mcv2\u001b[0m \u001b[0;32mas\u001b[0m \u001b[0mcv\u001b[0m\u001b[0;34m\u001b[0m\u001b[0;34m\u001b[0m\u001b[0m\n",
      "\u001b[0;31mModuleNotFoundError\u001b[0m: No module named 'rospy'"
     ]
    }
   ],
   "source": [
    "from color_identify import color_identify"
   ]
  },
  {
   "cell_type": "code",
   "execution_count": 24,
   "metadata": {},
   "outputs": [
    {
     "name": "stdout",
     "output_type": "stream",
     "text": [
      "/bin/bash: rospy: command not found\n"
     ]
    }
   ],
   "source": [
    "!rospy -v"
   ]
  },
  {
   "cell_type": "code",
   "execution_count": 20,
   "metadata": {},
   "outputs": [
    {
     "name": "stdout",
     "output_type": "stream",
     "text": [
      "Defaulting to user installation because normal site-packages is not writeable\n",
      "Requirement already satisfied: rospkg in /home/jetson/.local/lib/python3.6/site-packages (1.2.8)\n",
      "Requirement already satisfied: catkin-pkg in /home/jetson/.local/lib/python3.6/site-packages (from rospkg) (0.4.23)\n",
      "Requirement already satisfied: PyYAML in /home/jetson/.local/lib/python3.6/site-packages (from rospkg) (5.3)\n",
      "Requirement already satisfied: distro in /home/jetson/.local/lib/python3.6/site-packages (from rospkg) (1.5.0)\n",
      "Requirement already satisfied: pyparsing in /home/jetson/.local/lib/python3.6/site-packages (from catkin-pkg->rospkg) (2.4.7)\n",
      "Requirement already satisfied: docutils in /home/jetson/.local/lib/python3.6/site-packages (from catkin-pkg->rospkg) (0.16)\n",
      "Requirement already satisfied: python-dateutil in /usr/lib/python3/dist-packages (from catkin-pkg->rospkg) (2.6.1)\n"
     ]
    }
   ],
   "source": [
    "\n",
    "!python3 -m pip install rospkg"
   ]
  },
  {
   "cell_type": "code",
   "execution_count": 1,
   "metadata": {},
   "outputs": [],
   "source": [
    "import rospy"
   ]
  },
  {
   "cell_type": "code",
   "execution_count": 15,
   "metadata": {},
   "outputs": [
    {
     "ename": "SyntaxError",
     "evalue": "invalid syntax (<ipython-input-15-bbd6712d0f78>, line 1)",
     "output_type": "error",
     "traceback": [
      "\u001b[0;36m  File \u001b[0;32m\"<ipython-input-15-bbd6712d0f78>\"\u001b[0;36m, line \u001b[0;32m1\u001b[0m\n\u001b[0;31m    sudo apt-get install pip\u001b[0m\n\u001b[0m           ^\u001b[0m\n\u001b[0;31mSyntaxError\u001b[0m\u001b[0;31m:\u001b[0m invalid syntax\n"
     ]
    }
   ],
   "source": [
    "!sudo apt-get install pip "
   ]
  },
  {
   "cell_type": "code",
   "execution_count": null,
   "metadata": {},
   "outputs": [],
   "source": []
  },
  {
   "cell_type": "code",
   "execution_count": null,
   "metadata": {},
   "outputs": [],
   "source": []
  },
  {
   "cell_type": "code",
   "execution_count": null,
   "metadata": {},
   "outputs": [],
   "source": []
  },
  {
   "cell_type": "code",
   "execution_count": null,
   "metadata": {},
   "outputs": [],
   "source": []
  },
  {
   "cell_type": "code",
   "execution_count": null,
   "metadata": {},
   "outputs": [],
   "source": []
  },
  {
   "cell_type": "code",
   "execution_count": null,
   "metadata": {},
   "outputs": [],
   "source": []
  },
  {
   "cell_type": "code",
   "execution_count": null,
   "metadata": {},
   "outputs": [],
   "source": []
  },
  {
   "cell_type": "code",
   "execution_count": null,
   "metadata": {},
   "outputs": [],
   "source": []
  },
  {
   "cell_type": "code",
   "execution_count": null,
   "metadata": {},
   "outputs": [],
   "source": []
  },
  {
   "cell_type": "code",
   "execution_count": null,
   "metadata": {},
   "outputs": [],
   "source": []
  },
  {
   "cell_type": "code",
   "execution_count": null,
   "metadata": {},
   "outputs": [],
   "source": [
    "#!/usr/bin/env python\n",
    "# coding: utf-8\n",
    "\n",
    "import cv2 as cv\n",
    "from Calibration import Arm_Calibration\n",
    "calibration = Arm_Calibration()\n",
    "capture = cv.VideoCapture(0)\n",
    "dp = []\n",
    "while capture.isOpened():\n",
    "    _, image = capture.read()\n",
    "    action = cv.waitKey(10) & 0xff\n",
    "    # print action\n",
    "    if action == 49:  # 模拟进入标定后的效果\n",
    "        print(\"49\")\n",
    "        # 显示方框检测效果图\n",
    "        image, (HSV_min, HSV_max) = calibration.get_hsv(image)\n",
    "    if action == 32:  # 模拟进入标定后的效果\n",
    "        print(\"32\")\n",
    "        # 显示方框检测效果图\n",
    "        dp, image = calibration.calibration_map(image,threshold_num=130)\n",
    "    if action == 27:  # 模拟标定后的效果\n",
    "        print(\"27\")\n",
    "        # 返回仿射变换后的效果图\n",
    "        image = calibration.Perspective_transform(dp, image)\n",
    "    cv.imshow(\"image\", image)\n",
    "cv.destroyAllWindows()"
   ]
  },
  {
   "cell_type": "code",
   "execution_count": null,
   "metadata": {},
   "outputs": [],
   "source": [
    "# !/usr/bin/env python\n",
    "# coding: utf-8\n",
    "import threading\n",
    "from math import pi\n",
    "from time import sleep\n",
    "import Arm_Lib\n",
    "\n",
    "joints_0 = [90, 130, 0, 0, 90, 0]\n",
    "\n",
    "def test():\n",
    "    print(\"机械臂移动测试!\")\n",
    "    Arm.Arm_serial_servo_write6_array(joints_0, 1500)\n",
    "    sleep(3)\n",
    "Arm = Arm_Lib.Arm_Device()\n",
    "index = 0\n",
    "# print(\"*******抓取准备*******\")\n",
    "while True:\n",
    "    test()\n",
    "    sleep(1)\n",
    "    print(\"----------\", index)\n",
    "    index += 10\n"
   ]
  },
  {
   "cell_type": "code",
   "execution_count": null,
   "metadata": {},
   "outputs": [],
   "source": [
    "import cv2 as cv \n",
    "capture = cv.VideoCapture(0)\n",
    "while capture.isOpened():\n",
    "    _, image = capture.read()\n",
    "    cv.imshow(\"image\", image)\n",
    "    cv.waitKey(10)\n",
    "cv.destroyAllWindows()"
   ]
  },
  {
   "cell_type": "code",
   "execution_count": 12,
   "metadata": {},
   "outputs": [],
   "source": [
    "g_color_dict_temp =  {\"red\": ((0, 150, 160), (10, 255, 255)),\n",
    "                  \"green\": ((53, 80, 36), (80, 255, 160)),\n",
    "                  \"blue\": ((116, 124, 100), (130, 255, 255)),\n",
    "                  \"yellow\": ((20, 98, 130), (40, 255, 255))}\n"
   ]
  },
  {
   "cell_type": "code",
   "execution_count": 13,
   "metadata": {},
   "outputs": [],
   "source": [
    "g_color_dict_temp[\"red\"] = ((10, 150, 160), (10, 255, 255))"
   ]
  },
  {
   "cell_type": "code",
   "execution_count": 14,
   "metadata": {},
   "outputs": [
    {
     "name": "stdout",
     "output_type": "stream",
     "text": [
      "10\n"
     ]
    }
   ],
   "source": [
    "print(g_color_dict_temp[\"red\"][0][0])"
   ]
  },
  {
   "cell_type": "code",
   "execution_count": null,
   "metadata": {},
   "outputs": [],
   "source": []
  }
 ],
 "metadata": {
  "kernelspec": {
   "display_name": "Python 3",
   "language": "python",
   "name": "python3"
  },
  "language_info": {
   "codemirror_mode": {
    "name": "ipython",
    "version": 3
   },
   "file_extension": ".py",
   "mimetype": "text/x-python",
   "name": "python",
   "nbconvert_exporter": "python",
   "pygments_lexer": "ipython3",
   "version": "3.6.9"
  }
 },
 "nbformat": 4,
 "nbformat_minor": 4
}
