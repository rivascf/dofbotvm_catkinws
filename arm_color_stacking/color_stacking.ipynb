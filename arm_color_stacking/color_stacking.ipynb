{
 "cells": [
  {
   "cell_type": "code",
   "execution_count": 2,
   "metadata": {},
   "outputs": [
    {
     "name": "stdout",
     "output_type": "stream",
     "text": [
      "[137, 40, 60, 20, 270, 125]\n"
     ]
    }
   ],
   "source": [
    "#joints_down1 = [[137, 40, 60, 20, 270, self.grap_joint ], [137, 60, 25, 40, 270, self.grap_joint ], [135, 67, 56, 0, 270, self.grap_joint], [135, 64, 71, 0, 270, self.grap_joint ]]\n",
    "joints_down1 = [[137, 40, 60, 20, 270, 125 ], [137, 60, 25, 40, 270, 125 ], [135, 67, 56, 0, 270, 125], [135, 64, 71, 0, 270, 125 ]]\n",
    "joints_down2 = [[137, 40, 60, 20, 270, 125 ], [137, 60, 25, 40, 270, 125 ], [135, 67, 56, 0, 270, 125], [135, 64, 71, 0, 270, 125 ]]\n",
    "joints_down3 = [[137, 40, 60, 20, 270, 125 ], [137, 60, 25, 40, 270, 125 ], [135, 67, 56, 0, 270, 125], [135, 64, 71, 0, 270, 125 ]]\n",
    "joints_down4 = [[137, 40, 60, 20, 270, 125 ], [137, 60, 25, 40, 270, 125 ], [135, 67, 56, 0, 270, 125], [135, 64, 71, 0, 270, 125 ]]\n",
    "joints_down = [joints_down1, joints_down2, joints_down3, joints_down4]   \n",
    "    \n",
    "posindex = 0\n",
    "    \n",
    "joints_downsend = [joints_down[posindex][0][0], joints_down[posindex][0][1], joints_down[posindex][0][2], joints_down[posindex][0][3], joints_down[posindex][0][4], joints_down[posindex][0][5]]\n",
    "print(joints_downsend)"
   ]
  },
  {
   "cell_type": "code",
   "execution_count": null,
   "metadata": {},
   "outputs": [],
   "source": [
    "import cv2 as cv\n",
    "from color_stacking import color_stacking\n",
    "\n",
    "if __name__ == '__main__':\n",
    "    color_stacking = color_stacking()\n",
    "    capture = cv.VideoCapture(0)\n",
    "    while capture.isOpened():\n",
    "        _, image = capture.read()\n",
    "        image, pos = color_stacking.select_color(image, \"3101\")\n",
    "        color_stacking.stacking_grap(pos)\n",
    "        #cv.imshow(\"image\", image)\n",
    "        #cv.waitKey(10)\n",
    "    #cv.destroyAllWindows()"
   ]
  },
  {
   "cell_type": "code",
   "execution_count": null,
   "metadata": {},
   "outputs": [],
   "source": [
    "#bgr8转jpeg格式\n",
    "import enum\n",
    "import cv2\n",
    "import ipywidgets.widgets as widgets\n",
    "from color_stacking import color_stacking\n",
    "from Arm_Lib import Arm_Device\n",
    "import sys\n",
    "\n",
    "sys.path.append(\"/home/jetson/catkin_ws/src/arm_color_identify/scripts\")\n",
    "sys.path.append(\"/home/jetson/catkin_ws/src/arm_color_follow\")\n",
    "sys.path.append(\"/home/jetson/catkin_ws/src/arm_face_follow\")\n",
    "sys.path.append(\"/home/jetson/catkin_ws/src/arm_color_stacking/scripts\")\n",
    "sys.path.append(\"/home/jetson/catkin_ws/src/arm_garbage_identify\")\n",
    "\n",
    "def bgr8_to_jpeg(value, quality=75):\n",
    "    return bytes(cv2.imencode('.jpg', value)[1])\n",
    "\n",
    "#标定\n",
    "from Calibration import Arm_Calibration\n",
    "calibration = Arm_Calibration()\n",
    "\n",
    "image_widget = widgets.Image(format='jpg', width=640, height=480)\n",
    "display(image_widget)\n",
    "\n",
    "color_stacking = color_stacking()\n",
    "\n",
    "capture = cv2.VideoCapture(0)\n",
    "\n",
    "while capture.isOpened():\n",
    "    _, image = capture.read()\n",
    "    image, pos = color_stacking.select_color(image, \"3101\")\n",
    "    image_widget.value = bgr8_to_jpeg(img)\n",
    "    #color_stacking.stacking_grap(pos)\n",
    "\n",
    "\n"
   ]
  },
  {
   "cell_type": "code",
   "execution_count": null,
   "metadata": {},
   "outputs": [],
   "source": [
    "_, frame = calibration.calibration_map(frame)"
   ]
  },
  {
   "cell_type": "code",
   "execution_count": null,
   "metadata": {},
   "outputs": [],
   "source": [
    " #标定模式\n",
    "if g_calibrateMode == 'calibrateMode': #进入标定模式\n",
    "    #print(\"calibrateMode\")\n",
    "    _, image = calibration.calibration_map(image)\n",
    "elif g_calibrateMode == 'calibrateOK': #标定确定\n",
    "    cal_dp, frame = calibration.calibration_map(frame)\n",
    "    g_calibrateMode ='None'\n",
    "elif g_calibrateMode =='calibratecancel': #标定退出\n",
    "    cal_dp=[]\n",
    "if len(cal_dp)!=0:\n",
    "    frame = calibration.Perspective_transform(cal_dp,frame)"
   ]
  },
  {
   "cell_type": "code",
   "execution_count": 4,
   "metadata": {},
   "outputs": [],
   "source": [
    "from Arm_Lib import Arm_Device\n",
    "import time\n",
    "Arm = Arm_Device()\n",
    "\n"
   ]
  },
  {
   "cell_type": "code",
   "execution_count": 6,
   "metadata": {},
   "outputs": [],
   "source": [
    "Arm.Arm_serial_servo_write_offset_switch(1)\n",
    "#time.sleep(0.1)\n",
    "#state = Arm.Arm_serial_servo_write_offset_state()\n",
    "#print(state)"
   ]
  },
  {
   "cell_type": "code",
   "execution_count": null,
   "metadata": {},
   "outputs": [],
   "source": []
  }
 ],
 "metadata": {
  "kernelspec": {
   "display_name": "Python 3",
   "language": "python",
   "name": "python3"
  },
  "language_info": {
   "codemirror_mode": {
    "name": "ipython",
    "version": 3
   },
   "file_extension": ".py",
   "mimetype": "text/x-python",
   "name": "python",
   "nbconvert_exporter": "python",
   "pygments_lexer": "ipython3",
   "version": "3.6.9"
  }
 },
 "nbformat": 4,
 "nbformat_minor": 4
}
